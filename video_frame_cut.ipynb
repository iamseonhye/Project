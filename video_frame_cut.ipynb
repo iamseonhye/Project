{
  "nbformat": 4,
  "nbformat_minor": 0,
  "metadata": {
    "colab": {
      "provenance": [],
      "mount_file_id": "19ckERYyaj5wx6AZ44ZXIM13XL6FIJOWc",
      "authorship_tag": "ABX9TyOH8KrscUNEjVLXlax37Aa3",
      "include_colab_link": true
    },
    "kernelspec": {
      "name": "python3",
      "display_name": "Python 3"
    },
    "language_info": {
      "name": "python"
    }
  },
  "cells": [
    {
      "cell_type": "markdown",
      "metadata": {
        "id": "view-in-github",
        "colab_type": "text"
      },
      "source": [
        "<a href=\"https://colab.research.google.com/github/iamseonhye/Project/blob/main/video_frame_cut.ipynb\" target=\"_parent\"><img src=\"https://colab.research.google.com/assets/colab-badge.svg\" alt=\"Open In Colab\"/></a>"
      ]
    },
    {
      "cell_type": "code",
      "execution_count": null,
      "metadata": {
        "id": "bUGcSOAU2qtL"
      },
      "outputs": [],
      "source": [
        "import cv2\n",
        "import os"
      ]
    },
    {
      "cell_type": "code",
      "source": [
        "from google.colab import drive\n",
        "drive.mount('/content/drive')"
      ],
      "metadata": {
        "id": "NDHAW4fl67iY"
      },
      "execution_count": null,
      "outputs": []
    },
    {
      "cell_type": "code",
      "source": [
        "# 비디오 파일 열기\n",
        "video = cv2.VideoCapture('/content/drive/MyDrive/졸업작품/창학관_0919.mp4')\n",
        "# 비디오의 FPS(초당 프레임 수)를 구한다.\n",
        "fps = video.get(cv2.CAP_PROP_FPS)\n",
        "print(fps)\n",
        "# 3초마다 하나의 프레임을 저장하므로, 프레임 간격을 계산한다.\n",
        "frame_interval = int(round(3* fps))\n",
        "\n",
        "frame_count = 0\n",
        "while video.isOpened():\n",
        "    # 비디오에서 다음 프레임 읽기\n",
        "    ret, frame = video.read()\n",
        "\n",
        "    # 프레임이 없으면 비디오의 끝\n",
        "    if not ret:\n",
        "        break\n",
        "\n",
        "    # frame_interval 마다 프레임 저장\n",
        "    if frame_count % frame_interval == 0:\n",
        "      save_directory = '/content/drive/MyDrive/졸업작품/창학관_0919/'\n",
        "      file_name = f'frame_{frame_count}.jpg'\n",
        "      save_path = os.path.join(save_directory, file_name)\n",
        "      cv2.imwrite(save_path, frame)\n",
        "\n",
        "    frame_count += 1\n",
        "\n",
        "# 비디오 파일 닫기\n",
        "video.release()\n",
        "cv2.destroyAllWindows()"
      ],
      "metadata": {
        "id": "uSgEBSIL20AY",
        "colab": {
          "base_uri": "https://localhost:8080/"
        },
        "outputId": "edbc8de3-6f9f-48b5-9fe8-2b35836f0c2f"
      },
      "execution_count": null,
      "outputs": [
        {
          "output_type": "stream",
          "name": "stdout",
          "text": [
            "24.0\n"
          ]
        }
      ]
    },
    {
      "cell_type": "code",
      "source": [],
      "metadata": {
        "colab": {
          "base_uri": "https://localhost:8080/"
        },
        "id": "QrqjTOgM21RD",
        "outputId": "16201e93-ddc2-497d-88a5-0d8efb0bf0b0"
      },
      "execution_count": null,
      "outputs": [
        {
          "output_type": "stream",
          "name": "stdout",
          "text": [
            "24.0\n"
          ]
        }
      ]
    },
    {
      "cell_type": "code",
      "source": [],
      "metadata": {
        "id": "QrrAAGtA23IL"
      },
      "execution_count": null,
      "outputs": []
    },
    {
      "cell_type": "code",
      "source": [],
      "metadata": {
        "id": "nxCHDnLZ25GY"
      },
      "execution_count": null,
      "outputs": []
    }
  ]
}